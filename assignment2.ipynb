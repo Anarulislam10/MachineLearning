{
 "cells": [
  {
   "cell_type": "markdown",
   "id": "18ac7b82-79e4-4148-8c6c-dd66775f2a58",
   "metadata": {},
   "source": [
    "# Swaps the values of two variable"
   ]
  },
  {
   "cell_type": "code",
   "execution_count": null,
   "id": "3fba76cc-33dd-4fc8-b6db-c34e2578e24e",
   "metadata": {},
   "outputs": [],
   "source": [
    "num1=10\n",
    "num2=20\n",
    "print(\"Before swaping\")\n",
    "print(f\"number1={num1}\",f\"number2={num2}\")\n",
    "\n",
    "temp=num1\n",
    "num1=num2\n",
    "num2=temp\n",
    "print(\"After swaping\")\n",
    "print(f\"number1={num1}\",f\"number2={num2}\")"
   ]
  },
  {
   "cell_type": "markdown",
   "id": "d381244b-6dba-470b-8744-daeb04f3e39b",
   "metadata": {},
   "source": [
    "#  Area of Rectangle"
   ]
  },
  {
   "cell_type": "code",
   "execution_count": null,
   "id": "176715b8-0554-4ef5-8943-423c636a7f01",
   "metadata": {},
   "outputs": [],
   "source": [
    "length,width=int(input(\"Enter length=\")),int(input(\"Enter width=\"))\n",
    "print(\"Area of Rectangle=\",length*width)"
   ]
  },
  {
   "cell_type": "markdown",
   "id": "ddb7d125-f07f-4cfb-b219-f23665503363",
   "metadata": {},
   "source": [
    "# Convert temparatue F to C"
   ]
  },
  {
   "cell_type": "code",
   "execution_count": null,
   "id": "017906e1-33b6-49c0-8e54-ee0598f11ca3",
   "metadata": {},
   "outputs": [],
   "source": [
    "F=float(input(\"Enter farenheit value\"))\n",
    "C= ((F-32.0)/9)*5\n",
    "print(f\"Celcious={C}\")"
   ]
  },
  {
   "cell_type": "markdown",
   "id": "9cd3c1c7-2ea9-4380-b05b-22b7a8c94d4b",
   "metadata": {},
   "source": [
    "# Volume of sphere"
   ]
  },
  {
   "cell_type": "code",
   "execution_count": null,
   "id": "e2dd4c52-55c3-496f-9853-07781b92c311",
   "metadata": {},
   "outputs": [],
   "source": [
    "import math\n",
    "radious=float(input(\"Enter radious\"))\n",
    "Volume=(4/3)*(math.pi)*pow(radious,3)\n",
    "print(f\"Volume of sphera={Volume}\")"
   ]
  },
  {
   "cell_type": "markdown",
   "id": "29fcef5c-9050-404a-8863-8b56509c74b6",
   "metadata": {},
   "source": [
    "# Average 3 numbers"
   ]
  },
  {
   "cell_type": "code",
   "execution_count": null,
   "id": "115a1b37-e625-4f5a-859c-c100b8609c18",
   "metadata": {},
   "outputs": [],
   "source": [
    "n1=10\n",
    "n2=12\n",
    "n3=7\n",
    "print((n1+n2+n3)/3)"
   ]
  },
  {
   "cell_type": "markdown",
   "id": "70778187-14ca-4b7b-ac8d-85edde9d8f36",
   "metadata": {},
   "source": [
    "# Even or odd\n"
   ]
  },
  {
   "cell_type": "code",
   "execution_count": null,
   "id": "2c0a1af8-6834-43e1-a3c3-e0e415b50e6b",
   "metadata": {},
   "outputs": [],
   "source": [
    "num=int(input(\"Enter a number:\"))\n",
    "if num%2==0:\n",
    "    print(f\"{num} is Even \")\n",
    "else:\n",
    "    print(f\"{num} is odd\")\n"
   ]
  },
  {
   "cell_type": "markdown",
   "id": "36f4df44-a920-444c-a3a7-8fcb64e0527d",
   "metadata": {},
   "source": [
    "# Maximum of three numbers"
   ]
  },
  {
   "cell_type": "code",
   "execution_count": null,
   "id": "2c77d775-bd43-4a7c-a5f0-2d44d4976f32",
   "metadata": {},
   "outputs": [],
   "source": [
    "num1,num2,num3=int(input(\"Enter number1:\")),int(input(\"Enter number2:\")),int(input(\"Enter number3:\"))\n",
    "if num1>num2 & num1>num3:\n",
    "    print(f\"{num1} is maximum among {num1}, {num2},{num3}\")\n",
    "elif num2>num1 & num2>num3:\n",
    "    print(f\"{num2} is maximum among {num1},{num2},{num3}\")\n",
    "else:\n",
    "    print(f\"{num3} is maximum among {num1},{num2},{num3}\")\n"
   ]
  },
  {
   "cell_type": "markdown",
   "id": "ab57ba08-41a4-4d38-a33b-9c4ce5a2bb43",
   "metadata": {},
   "source": [
    "# Leapyear"
   ]
  },
  {
   "cell_type": "code",
   "execution_count": null,
   "id": "57b562f5-ef20-49c3-a6a9-4f466563438b",
   "metadata": {},
   "outputs": [],
   "source": [
    "year=int(input(\"Enter year\"))\n",
    "if year%4==0:\n",
    "    print(f\"{year} is leap year\")\n",
    "else:\n",
    "    print(f\"{year} is not leap year\")"
   ]
  },
  {
   "cell_type": "markdown",
   "id": "6fb7d161-beb6-42f9-ad4d-216f2fad91d8",
   "metadata": {},
   "source": [
    "# positive ,negative ,zero"
   ]
  },
  {
   "cell_type": "code",
   "execution_count": null,
   "id": "cab3e464-df64-4758-a444-9c1799b7fd22",
   "metadata": {},
   "outputs": [],
   "source": [
    "num=int(input(\"Enter a number\"))\n",
    "if num>0:\n",
    "    print(f\"{num} is positive\")\n",
    "elif num==0:\n",
    "    print(f\"{num} is Zero\")\n",
    "else:\n",
    "    print(f\"{num} is negative\")\n",
    "    \n",
    "        "
   ]
  },
  {
   "cell_type": "markdown",
   "id": "41524f5b-3279-47a6-bdfd-c799413ba2e8",
   "metadata": {},
   "source": [
    "# Grade based on given percentage"
   ]
  },
  {
   "cell_type": "code",
   "execution_count": null,
   "id": "d7e8c3f3-b09a-4323-8381-6dab067cdd38",
   "metadata": {},
   "outputs": [],
   "source": [
    "n = float(input('Enter the percentage of the student: '))\n",
    "\n",
    "if(n > 90):\n",
    "    print(\"Grade A\")\n",
    "elif(n > 80):\n",
    "    print(\"Grade B\")\n",
    "elif(n > 70):\n",
    "    print(\"Grade C\")\n",
    "elif(n >= 60):\n",
    "    print(\"Grade D\")\n",
    "else:\n",
    "    print(\"Grade E\")\n",
    "\n"
   ]
  },
  {
   "cell_type": "markdown",
   "id": "c2010a39-545f-42f3-8e90-8724c4ba1a95",
   "metadata": {},
   "source": [
    "# Print 'n' natural numbers "
   ]
  },
  {
   "cell_type": "code",
   "execution_count": null,
   "id": "344b8e39-f814-465a-b26c-39bb87160823",
   "metadata": {},
   "outputs": [],
   "source": [
    "n=int(input(\"Enter value of n:\"))\n",
    "for i in range(1,n+1):\n",
    "    print(i)"
   ]
  },
  {
   "cell_type": "markdown",
   "id": "17f97e70-0ebb-4f61-be11-f9a4778d9744",
   "metadata": {},
   "source": [
    "# Factorial"
   ]
  },
  {
   "cell_type": "code",
   "execution_count": null,
   "id": "c4810926-4f0f-4a98-b5ad-28b21e0ae437",
   "metadata": {},
   "outputs": [],
   "source": [
    "n=int(input(\"Enter which number you want to factorial=\"))\n",
    "fac=1\n",
    "for i in range(1,n+1):\n",
    "    fac=fac*i\n",
    "print(f\"facortial of {n} ={fac}\")\n",
    "    "
   ]
  },
  {
   "cell_type": "code",
   "execution_count": null,
   "id": "3d159490-7723-487a-b3c9-bdab88968609",
   "metadata": {},
   "outputs": [],
   "source": [
    "n=int(input(\"Enter value of N=\"))\n",
    "a=0\n",
    "b=1\n",
    "print(a)\n",
    "print(b)\n",
    "for i in range(2,n):\n",
    "    c=a+b\n",
    "    a=b\n",
    "    b=c\n",
    "    print(c)\n",
    "    \n",
    "    \n",
    "    \n",
    "    \n",
    "    \n"
   ]
  },
  {
   "cell_type": "markdown",
   "id": "ee2eea1d-6122-432d-8917-7957f4062205",
   "metadata": {},
   "source": [
    "# Prime number"
   ]
  },
  {
   "cell_type": "code",
   "execution_count": 1,
   "id": "6d68480f-bcfc-42e4-8644-81a8300ae43c",
   "metadata": {},
   "outputs": [
    {
     "name": "stdin",
     "output_type": "stream",
     "text": [
      "Enter n= 4\n"
     ]
    },
    {
     "name": "stdout",
     "output_type": "stream",
     "text": [
      "4 is not a prime number\n"
     ]
    }
   ],
   "source": [
    "n=int(input(\"Enter n=\"))\n",
    "\n",
    "if n>1:\n",
    "    for i in range(2,(n//2)+1):\n",
    "        if n%i==0:\n",
    "            print(f\"{n} is not a prime number\")\n",
    "            break;\n",
    "        else:\n",
    "            print(f\"{n} is  prime number\")\n",
    "else:\n",
    "    print(f\"{n} is not a prime number\")\n",
    "              \n",
    "            \n",
    "    \n",
    "    \n",
    "\n",
    "        "
   ]
  },
  {
   "cell_type": "markdown",
   "id": "31bd2e76-0d5d-4910-8bc6-7e9632e33071",
   "metadata": {},
   "source": [
    "# Multiplication table"
   ]
  },
  {
   "cell_type": "code",
   "execution_count": 3,
   "id": "1472905e-92ae-48dd-8d4b-384891f1de84",
   "metadata": {},
   "outputs": [
    {
     "name": "stdin",
     "output_type": "stream",
     "text": [
      "Enter n= 5\n"
     ]
    },
    {
     "name": "stdout",
     "output_type": "stream",
     "text": [
      "5 X 1 = 5\n",
      "5 X 2 = 10\n",
      "5 X 3 = 15\n",
      "5 X 4 = 20\n",
      "5 X 5 = 25\n",
      "5 X 6 = 30\n",
      "5 X 7 = 35\n",
      "5 X 8 = 40\n",
      "5 X 9 = 45\n",
      "5 X 10 = 50\n"
     ]
    }
   ],
   "source": [
    "n=int(input(\"Enter n=\"))\n",
    "for i in range(1,11):\n",
    "    print(n,\"X\",i,\"=\",n*i)"
   ]
  },
  {
   "cell_type": "markdown",
   "id": "24bbe1c8-e440-4605-ba33-2ddacc97cede",
   "metadata": {},
   "source": [
    "# sum all even number"
   ]
  },
  {
   "cell_type": "code",
   "execution_count": 16,
   "id": "20a423f7-944d-4a95-95a0-c7eb8312fd79",
   "metadata": {},
   "outputs": [
    {
     "name": "stdin",
     "output_type": "stream",
     "text": [
      "Enter n= 5\n"
     ]
    },
    {
     "name": "stdout",
     "output_type": "stream",
     "text": [
      "6\n"
     ]
    }
   ],
   "source": [
    "n=int(input(\"Enter n=\"))\n",
    "i=2\n",
    "sum=0\n",
    "while i<=n:\n",
    "    sum +=i  \n",
    "    i=i+2\n",
    "\n",
    "print(sum)\n",
    "\n",
    "\n"
   ]
  },
  {
   "cell_type": "markdown",
   "id": "7f995992-5847-4e78-8530-4ce801eb3de0",
   "metadata": {},
   "source": [
    "# Reverse number\n"
   ]
  },
  {
   "cell_type": "code",
   "execution_count": 19,
   "id": "59765834-2736-40c1-a926-0c7bfdb357f8",
   "metadata": {},
   "outputs": [
    {
     "name": "stdin",
     "output_type": "stream",
     "text": [
      "Enter number= 72\n"
     ]
    },
    {
     "name": "stdout",
     "output_type": "stream",
     "text": [
      "reverse number= 27\n"
     ]
    }
   ],
   "source": [
    "n=int(input(\"Enter number=\"))\n",
    "reverseNumber=0\n",
    "while n !=0:\n",
    "    digit=n%10\n",
    "    reverseNumber=reverseNumber*10+digit\n",
    "    n //=10\n",
    "print(\"reverse number=\",reverseNumber)\n"
   ]
  },
  {
   "cell_type": "markdown",
   "id": "7628669f-dcf7-4ec3-940d-46ba93d77adc",
   "metadata": {},
   "source": [
    "# Palindrome"
   ]
  },
  {
   "cell_type": "code",
   "execution_count": 28,
   "id": "a4096e98-c738-4160-8871-102f7b3aa6e1",
   "metadata": {},
   "outputs": [
    {
     "ename": "SyntaxError",
     "evalue": "invalid non-printable character U+202F (2443351740.py, line 4)",
     "output_type": "error",
     "traceback": [
      "\u001b[1;36m  Cell \u001b[1;32mIn[28], line 4\u001b[1;36m\u001b[0m\n\u001b[1;33m    revstr=revstr+i\u001b[0m\n\u001b[1;37m                   ^\u001b[0m\n\u001b[1;31mSyntaxError\u001b[0m\u001b[1;31m:\u001b[0m invalid non-printable character U+202F\n"
     ]
    }
   ],
   "source": [
    "str=input(\"Enter string : \")  \n",
    "revstr=\"\" \n",
    "while i>len(str):\n",
    "    revstr=revstr+i   \n",
    "print(\"Reversed string : \", revstr) \n",
    " \n",
    "if(str==revstr): \n",
    "   print(\"The string is a palindrome.\") \n",
    "else: \n",
    "   print(\"The string is not a palindrome.\")"
   ]
  },
  {
   "cell_type": "code",
   "execution_count": null,
   "id": "3b226cd8-9111-4298-8934-691d59333111",
   "metadata": {},
   "outputs": [],
   "source": []
  }
 ],
 "metadata": {
  "kernelspec": {
   "display_name": "Python 3 (ipykernel)",
   "language": "python",
   "name": "python3"
  },
  "language_info": {
   "codemirror_mode": {
    "name": "ipython",
    "version": 3
   },
   "file_extension": ".py",
   "mimetype": "text/x-python",
   "name": "python",
   "nbconvert_exporter": "python",
   "pygments_lexer": "ipython3",
   "version": "3.11.7"
  }
 },
 "nbformat": 4,
 "nbformat_minor": 5
}
