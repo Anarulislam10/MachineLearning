{
 "cells": [
  {
   "cell_type": "markdown",
   "id": "18ac7b82-79e4-4148-8c6c-dd66775f2a58",
   "metadata": {},
   "source": [
    "# Swaps the values of two variable"
   ]
  },
  {
   "cell_type": "code",
   "execution_count": 1,
   "id": "3fba76cc-33dd-4fc8-b6db-c34e2578e24e",
   "metadata": {},
   "outputs": [
    {
     "name": "stdout",
     "output_type": "stream",
     "text": [
      "Before swaping\n",
      "number1=10 number2=20\n",
      "After swaping\n",
      "number1=20 number2=10\n"
     ]
    }
   ],
   "source": [
    "num1=10\n",
    "num2=20\n",
    "print(\"Before swaping\")\n",
    "print(f\"number1={num1}\",f\"number2={num2}\")\n",
    "\n",
    "temp=num1\n",
    "num1=num2\n",
    "num2=temp\n",
    "print(\"After swaping\")\n",
    "print(f\"number1={num1}\",f\"number2={num2}\")"
   ]
  },
  {
   "cell_type": "markdown",
   "id": "d381244b-6dba-470b-8744-daeb04f3e39b",
   "metadata": {},
   "source": [
    "#  Area of Rectangle"
   ]
  },
  {
   "cell_type": "code",
   "execution_count": 5,
   "id": "176715b8-0554-4ef5-8943-423c636a7f01",
   "metadata": {},
   "outputs": [
    {
     "name": "stdin",
     "output_type": "stream",
     "text": [
      "Enter length= 12\n",
      "Enter width= 12\n"
     ]
    },
    {
     "name": "stdout",
     "output_type": "stream",
     "text": [
      "Area of Rectangle= 144\n"
     ]
    }
   ],
   "source": [
    "length,width=int(input(\"Enter length=\")),int(input(\"Enter width=\"))\n",
    "print(\"Area of Rectangle=\",length*width)"
   ]
  },
  {
   "cell_type": "markdown",
   "id": "ddb7d125-f07f-4cfb-b219-f23665503363",
   "metadata": {},
   "source": [
    "# Convert temparatue F to C"
   ]
  },
  {
   "cell_type": "code",
   "execution_count": 9,
   "id": "017906e1-33b6-49c0-8e54-ee0598f11ca3",
   "metadata": {},
   "outputs": [
    {
     "name": "stdin",
     "output_type": "stream",
     "text": [
      "Enter farenheit value 98.6\n"
     ]
    },
    {
     "name": "stdout",
     "output_type": "stream",
     "text": [
      "Celcious=37.0\n"
     ]
    }
   ],
   "source": [
    "F=float(input(\"Enter farenheit value\"))\n",
    "C= ((F-32.0)/9)*5\n",
    "print(f\"Celcious={C}\")"
   ]
  },
  {
   "cell_type": "markdown",
   "id": "9cd3c1c7-2ea9-4380-b05b-22b7a8c94d4b",
   "metadata": {},
   "source": [
    "# Volume of sphere"
   ]
  },
  {
   "cell_type": "code",
   "execution_count": 15,
   "id": "e2dd4c52-55c3-496f-9853-07781b92c311",
   "metadata": {},
   "outputs": [
    {
     "name": "stdin",
     "output_type": "stream",
     "text": [
      "Enter radious 12.2\n"
     ]
    },
    {
     "name": "stdout",
     "output_type": "stream",
     "text": [
      "Volume of sphera=7606.206315780956\n"
     ]
    }
   ],
   "source": [
    "import math\n",
    "radious=float(input(\"Enter radious\"))\n",
    "Volume=(4/3)*(math.pi)*pow(radious,3)\n",
    "print(f\"Volume of sphera={Volume}\")"
   ]
  },
  {
   "cell_type": "markdown",
   "id": "29fcef5c-9050-404a-8863-8b56509c74b6",
   "metadata": {},
   "source": [
    "# Average 3 numbers"
   ]
  },
  {
   "cell_type": "code",
   "execution_count": 20,
   "id": "115a1b37-e625-4f5a-859c-c100b8609c18",
   "metadata": {},
   "outputs": [
    {
     "name": "stdout",
     "output_type": "stream",
     "text": [
      "9.666666666666666\n"
     ]
    }
   ],
   "source": [
    "n1=10\n",
    "n2=12\n",
    "n3=7\n",
    "print((n1+n2+n3)/3)"
   ]
  },
  {
   "cell_type": "code",
   "execution_count": null,
   "id": "c346846f-72ef-430c-b500-fc62255254e4",
   "metadata": {},
   "outputs": [],
   "source": []
  }
 ],
 "metadata": {
  "kernelspec": {
   "display_name": "Python 3 (ipykernel)",
   "language": "python",
   "name": "python3"
  },
  "language_info": {
   "codemirror_mode": {
    "name": "ipython",
    "version": 3
   },
   "file_extension": ".py",
   "mimetype": "text/x-python",
   "name": "python",
   "nbconvert_exporter": "python",
   "pygments_lexer": "ipython3",
   "version": "3.11.7"
  }
 },
 "nbformat": 4,
 "nbformat_minor": 5
}
